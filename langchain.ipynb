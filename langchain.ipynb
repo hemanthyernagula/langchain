{
 "cells": [
  {
   "cell_type": "code",
   "execution_count": 4,
   "id": "afb5ff2b-e658-488f-a863-b6989d0377b3",
   "metadata": {},
   "outputs": [
    {
     "data": {
      "text/plain": [
       "False"
      ]
     },
     "execution_count": 4,
     "metadata": {},
     "output_type": "execute_result"
    }
   ],
   "source": [
    "from langchain.llms import OpenAI\n",
    "from langchain.prompts import PromptTemplate\n",
    "\n",
    "from dotenv import load_dotenv\n",
    "import os\n",
    "\n",
    "load_dotenv()"
   ]
  },
  {
   "cell_type": "code",
   "execution_count": 6,
   "id": "10aad978-de6b-4d11-9f42-365ac12c50b4",
   "metadata": {},
   "outputs": [],
   "source": [
    "os.environ[\"OPENAI_API_KEY\"] = \"sk-...\""
   ]
  },
  {
   "cell_type": "markdown",
   "id": "3e38286c-801a-4603-97c4-c9cb7707f5f0",
   "metadata": {},
   "source": [
    "# Basic querying"
   ]
  },
  {
   "cell_type": "code",
   "execution_count": 7,
   "id": "764ef081-2322-4e47-873c-84dbf2825fbc",
   "metadata": {},
   "outputs": [],
   "source": [
    "llm = OpenAI(temperature=0.1)"
   ]
  },
  {
   "cell_type": "code",
   "execution_count": 18,
   "id": "bf41dd71-2b58-4633-8b35-d5bd4bc10e0d",
   "metadata": {},
   "outputs": [
    {
     "data": {
      "text/plain": [
       "'\\n\\n1. Udemy\\n2. Coursera\\n3. Skillshare\\n4. LinkedIn Learning\\n5. Codecademy'"
      ]
     },
     "execution_count": 18,
     "metadata": {},
     "output_type": "execute_result"
    }
   ],
   "source": [
    "template = \"Name 5 best platforms to learn {course_name}?\"\n",
    "llm(template)"
   ]
  },
  {
   "cell_type": "code",
   "execution_count": 19,
   "id": "56390f02-7e3b-461f-b86c-b304c41f41ed",
   "metadata": {},
   "outputs": [],
   "source": [
    "prompt = PromptTemplate(template=template, input_variables=[\"course_name\"])"
   ]
  },
  {
   "cell_type": "code",
   "execution_count": 21,
   "id": "77ead25d-d259-426a-a7ef-d4b9098cf239",
   "metadata": {},
   "outputs": [
    {
     "name": "stdout",
     "output_type": "stream",
     "text": [
      "Name 5 best platforms to learn mlops?\n"
     ]
    }
   ],
   "source": [
    "text = prompt.format(course_name=\"mlops\")\n",
    "print(text)"
   ]
  },
  {
   "cell_type": "code",
   "execution_count": 23,
   "id": "7d86def6-3151-417f-a066-4b6d83bd188c",
   "metadata": {},
   "outputs": [
    {
     "name": "stdout",
     "output_type": "stream",
     "text": [
      "\n",
      "\n",
      "1. Coursera\n",
      "2. Udacity\n",
      "3. edX\n",
      "4. DataCamp\n",
      "5. Kaggle Learn\n"
     ]
    }
   ],
   "source": [
    "print(llm(text))"
   ]
  },
  {
   "cell_type": "markdown",
   "id": "12c59914-cfe7-4a9f-bff0-e720c69a0dac",
   "metadata": {},
   "source": [
    "# Chains"
   ]
  },
  {
   "cell_type": "code",
   "execution_count": 24,
   "id": "6347ab55-f406-4938-8830-d3f5e658826b",
   "metadata": {},
   "outputs": [],
   "source": [
    "from langchain.llms import OpenAI\n",
    "from langchain.prompts import PromptTemplate\n",
    "from langchain.chains import LLMChain"
   ]
  },
  {
   "cell_type": "code",
   "execution_count": 36,
   "id": "8889ec05-1f30-4046-861d-329e3f4bc5f4",
   "metadata": {},
   "outputs": [],
   "source": [
    "def generate_course_platform(course_name):\n",
    "    llm = OpenAI(temperature=0.1)\n",
    "    template = \"Name 5 best platforms to learn {course_name}?\"\n",
    "    prompt = PromptTemplate(template=template, input_variables=[\"course_name\"])\n",
    "    chain = LLMChain(llm=llm, prompt=prompt)\n",
    "    return chain.run(course_name=course_name)\n",
    "    "
   ]
  },
  {
   "cell_type": "code",
   "execution_count": 37,
   "id": "114b16f7-adf2-41f2-b690-88557e925395",
   "metadata": {},
   "outputs": [
    {
     "name": "stdout",
     "output_type": "stream",
     "text": [
      "\n",
      "\n",
      "1. Udemy\n",
      "2. Coursera\n",
      "3. Codecademy\n",
      "4. Real Python\n",
      "5. Flask official documentation and tutorials\n"
     ]
    }
   ],
   "source": [
    "result = generate_course_platform(\"flask\")\n",
    "print(result)"
   ]
  },
  {
   "cell_type": "markdown",
   "id": "b03ec7c0-8a7f-41fc-832b-6671788f0b9d",
   "metadata": {},
   "source": [
    "# Agents"
   ]
  },
  {
   "cell_type": "code",
   "execution_count": 16,
   "id": "471208ca",
   "metadata": {},
   "outputs": [],
   "source": [
    "from langchain.agents import load_tools, initialize_agent, AgentType"
   ]
  },
  {
   "cell_type": "code",
   "execution_count": 17,
   "id": "2c19b040",
   "metadata": {},
   "outputs": [],
   "source": [
    "def langchain_agent():\n",
    "    llm = OpenAI(temperature=0.2)\n",
    "    tools = load_tools([\"wikipedia\", \"llm-math\"], llm=llm)\n",
    "    \n",
    "    agent = initialize_agent(tools=tools, llm=llm, agent=AgentType.ZERO_SHOT_REACT_DESCRIPTION, verbose=True)\n",
    "    \n",
    "    result = agent.run(\"what is the best platform to learn about PyTorch?\")\n",
    "    print(result)"
   ]
  },
  {
   "cell_type": "code",
   "execution_count": 22,
   "id": "234b9f8b",
   "metadata": {},
   "outputs": [
    {
     "name": "stderr",
     "output_type": "stream",
     "text": [
      "/home/hemanth/anaconda3/envs/pytorch/lib/python3.8/site-packages/langchain_core/_api/deprecation.py:119: LangChainDeprecationWarning: The function `initialize_agent` was deprecated in LangChain 0.1.0 and will be removed in 0.3.0. Use Use new agent constructor methods like create_react_agent, create_json_agent, create_structured_chat_agent, etc. instead.\n",
      "  warn_deprecated(\n",
      "/home/hemanth/anaconda3/envs/pytorch/lib/python3.8/site-packages/langchain_core/_api/deprecation.py:119: LangChainDeprecationWarning: The method `Chain.run` was deprecated in langchain 0.1.0 and will be removed in 0.3.0. Use invoke instead.\n",
      "  warn_deprecated(\n"
     ]
    },
    {
     "name": "stdout",
     "output_type": "stream",
     "text": [
      "\n",
      "\n",
      "\u001b[1m> Entering new AgentExecutor chain...\u001b[0m\n",
      "\u001b[32;1m\u001b[1;3m I should use Wikipedia to find information about PyTorch\n",
      "Action: wikipedia\n",
      "Action Input: PyTorch\u001b[0m\n",
      "Observation: \u001b[36;1m\u001b[1;3mPage: PyTorch\n",
      "Summary: PyTorch is a machine learning library based on the Torch library, used for applications such as computer vision and natural language processing, originally developed by Meta AI and now part of the Linux Foundation umbrella. It is recognized as one of the two most popular machine learning libraries alongside TensorFlow, offering free and open-source software released under the modified BSD license. Although the Python interface is more polished and the primary focus of development, PyTorch also has a C++ interface.\n",
      "A number of pieces of deep learning software are built on top of PyTorch, including Tesla Autopilot, Uber's Pyro, Hugging Face's Transformers, PyTorch Lightning, and Catalyst.\n",
      "PyTorch provides two high-level features:\n",
      "\n",
      "Tensor computing (like NumPy) with strong acceleration via graphics processing units (GPU)\n",
      "Deep neural networks built on a tape-based automatic differentiation system\n",
      "\n",
      "Page: PyTorch Lightning\n",
      "Summary: PyTorch Lightning is an open-source Python library that provides a high-level interface for PyTorch, a popular deep learning framework. It is a lightweight and high-performance framework that organizes PyTorch code to decouple the research from the engineering, making deep learning experiments easier to read and reproduce. It is designed to create scalable deep learning models that can easily run on distributed hardware while keeping the models hardware agnostic.  \n",
      "In 2019, Lightning was adopted by the NeurIPS Reproducibility Challenge as a standard for submitting PyTorch code to the conference.\n",
      "In 2022, the PyTorch Lightning library officially became a part of the Lightning framework, an open-source framework managed by the original creators of PyTorch Lightning.\n",
      "\n",
      "\n",
      "\n",
      "Page: Torch (machine learning)\n",
      "Summary: Torch is an open-source machine learning library, \n",
      "a scientific computing framework, and a scripting language based on Lua. It provides LuaJIT interfaces to deep learning algorithms implemented in C. It was created by the Idiap Research Institute at EPFL. Torch development moved in 2017 to PyTorch, a port of the library to Python.\u001b[0m\n",
      "Thought:\u001b[32;1m\u001b[1;3m I now know the final answer\n",
      "Final Answer: PyTorch is the best platform to learn about PyTorch.\u001b[0m\n",
      "\n",
      "\u001b[1m> Finished chain.\u001b[0m\n",
      "PyTorch is the best platform to learn about PyTorch.\n"
     ]
    }
   ],
   "source": [
    "langchain_agent()"
   ]
  },
  {
   "cell_type": "code",
   "execution_count": null,
   "id": "dc579beb",
   "metadata": {},
   "outputs": [],
   "source": []
  }
 ],
 "metadata": {
  "kernelspec": {
   "display_name": "Python 3 (ipykernel)",
   "language": "python",
   "name": "python3"
  },
  "language_info": {
   "codemirror_mode": {
    "name": "ipython",
    "version": 3
   },
   "file_extension": ".py",
   "mimetype": "text/x-python",
   "name": "python",
   "nbconvert_exporter": "python",
   "pygments_lexer": "ipython3",
   "version": "3.8.17"
  },
  "widgets": {
   "application/vnd.jupyter.widget-state+json": {
    "state": {},
    "version_major": 2,
    "version_minor": 0
   }
  }
 },
 "nbformat": 4,
 "nbformat_minor": 5
}
